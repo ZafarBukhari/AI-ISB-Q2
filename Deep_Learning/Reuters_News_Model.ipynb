{
  "nbformat": 4,
  "nbformat_minor": 0,
  "metadata": {
    "colab": {
      "name": "Reuters_News_Model.ipynb",
      "provenance": [],
      "collapsed_sections": [],
      "authorship_tag": "ABX9TyPkm6szOTNJV4FDEW5Um+rZ",
      "include_colab_link": true
    },
    "kernelspec": {
      "name": "python3",
      "display_name": "Python 3"
    },
    "language_info": {
      "name": "python"
    }
  },
  "cells": [
    {
      "cell_type": "markdown",
      "metadata": {
        "id": "view-in-github",
        "colab_type": "text"
      },
      "source": [
        "<a href=\"https://colab.research.google.com/github/ZafarBukhari/AI-ISB-Q2/blob/master/Deep_Learning/Reuters_News_Model.ipynb\" target=\"_parent\"><img src=\"https://colab.research.google.com/assets/colab-badge.svg\" alt=\"Open In Colab\"/></a>"
      ]
    },
    {
      "cell_type": "markdown",
      "metadata": {
        "id": "i0o4ZEZND6kd"
      },
      "source": [
        "# Reuters News - A Multi-Class Classification Problem"
      ]
    },
    {
      "cell_type": "code",
      "metadata": {
        "id": "nyelTVefD0Cx"
      },
      "source": [
        "import tensorflow as tf\n",
        "from tensorflow.keras.datasets import reuters\n",
        "from tensorflow.keras import models, layers, optimizers, utils\n",
        "import numpy as np\n",
        "%matplotlib inline\n",
        "import matplotlib.pyplot as plt"
      ],
      "execution_count": 2,
      "outputs": []
    },
    {
      "cell_type": "markdown",
      "metadata": {
        "id": "qjLVaQUdKyXF"
      },
      "source": [
        "## Loading Dataset"
      ]
    },
    {
      "cell_type": "code",
      "metadata": {
        "colab": {
          "base_uri": "https://localhost:8080/"
        },
        "id": "Em6l44oNK2xc",
        "outputId": "8eb43ebf-8f39-47ba-8f89-fa9b8d754583"
      },
      "source": [
        "(train_data, train_labels), (test_data, test_labels) = reuters.load_data(num_words=10000)"
      ],
      "execution_count": 4,
      "outputs": [
        {
          "output_type": "stream",
          "text": [
            "Downloading data from https://storage.googleapis.com/tensorflow/tf-keras-datasets/reuters.npz\n",
            "2113536/2110848 [==============================] - 0s 0us/step\n",
            "2121728/2110848 [==============================] - 0s 0us/step\n"
          ],
          "name": "stdout"
        }
      ]
    },
    {
      "cell_type": "code",
      "metadata": {
        "colab": {
          "base_uri": "https://localhost:8080/"
        },
        "id": "_UjkF0NsLYVk",
        "outputId": "12693fc6-8d30-473e-fad4-b51cd3409cf6"
      },
      "source": [
        "print('train_data: ',len(train_data))\n",
        "print('test_data: ', len(test_data))"
      ],
      "execution_count": 7,
      "outputs": [
        {
          "output_type": "stream",
          "text": [
            "train_data:  8982\n",
            "test_data:  2246\n"
          ],
          "name": "stdout"
        }
      ]
    },
    {
      "cell_type": "markdown",
      "metadata": {
        "id": "QbtFZuEyLvIi"
      },
      "source": [
        "## Preparing the Data"
      ]
    },
    {
      "cell_type": "code",
      "metadata": {
        "id": "Jou8PmYILc53"
      },
      "source": [
        "def vectorize_sequences(sequences, dimention=10000):\n",
        "  results = np.zeros((len(sequences), dimention))\n",
        "  for i, sequence in enumerate(sequences):\n",
        "    results[i, sequence] = 1.\n",
        "  return results"
      ],
      "execution_count": 8,
      "outputs": []
    },
    {
      "cell_type": "code",
      "metadata": {
        "id": "jRV_XDAtMH_L"
      },
      "source": [
        "x_train = vectorize_sequences(train_data)\n",
        "x_test = vectorize_sequences(test_data)"
      ],
      "execution_count": 9,
      "outputs": []
    },
    {
      "cell_type": "code",
      "metadata": {
        "id": "H4j4RwgVMmMT"
      },
      "source": [
        "def to_one_hot(labels, dimention=46):\n",
        "  results = np.zeros((len(labels), dimention))\n",
        "  for i, sequence in enumerate(labels):\n",
        "    results[i, labels] = 1.\n",
        "  return results\n",
        "\n",
        "one_hot_train_labels = to_one_hot(train_labels)\n",
        "one_hot_test_labels = to_one_hot(test_labels)"
      ],
      "execution_count": 14,
      "outputs": []
    },
    {
      "cell_type": "markdown",
      "metadata": {
        "id": "rzAs61RSNrFa"
      },
      "source": [
        "## OR"
      ]
    },
    {
      "cell_type": "code",
      "metadata": {
        "id": "L8BP7QvHNZau"
      },
      "source": [
        "one_hot_train_labels = utils.to_categorical(train_labels)\n",
        "one_hot_test_labels = utils.to_categorical(test_labels)"
      ],
      "execution_count": 16,
      "outputs": []
    },
    {
      "cell_type": "code",
      "metadata": {
        "id": "DPEKNg2DOGID"
      },
      "source": [
        "x_val = x_train[:1000]\n",
        "partial_x_train = x_train[1000:]\n",
        "y_val = one_hot_train_labels[:1000]\n",
        "partial_y_train = one_hot_train_labels[1000:]"
      ],
      "execution_count": 17,
      "outputs": []
    },
    {
      "cell_type": "markdown",
      "metadata": {
        "id": "GcOHzBQcOd-q"
      },
      "source": [
        "## Building Network"
      ]
    },
    {
      "cell_type": "code",
      "metadata": {
        "id": "5eiJmuubOgJt"
      },
      "source": [
        "model = models.Sequential()\n",
        "model.add(layers.Dense(64, activation='relu', input_shape=(10000,)))\n",
        "model.add(layers.Dense(64, activation='relu'))\n",
        "model.add(layers.Dense(46, activation='softmax'))"
      ],
      "execution_count": 18,
      "outputs": []
    },
    {
      "cell_type": "markdown",
      "metadata": {
        "id": "MfiCbpfePIGE"
      },
      "source": [
        "### Compilation"
      ]
    },
    {
      "cell_type": "code",
      "metadata": {
        "colab": {
          "base_uri": "https://localhost:8080/"
        },
        "id": "X6n1HtYUPKA4",
        "outputId": "f16164a8-6954-41f7-8e81-641757571d79"
      },
      "source": [
        "# Using 'categorical_crossentropy'\n",
        "model.compile(optimizer='rmsprop', loss='categorical_crossentropy', metrics=['accuracy'])\n",
        "history=model.fit(partial_x_train, partial_y_train, epochs=20, batch_size=512, validation_data=(x_val, y_val))"
      ],
      "execution_count": 19,
      "outputs": [
        {
          "output_type": "stream",
          "text": [
            "Epoch 1/20\n",
            "16/16 [==============================] - 2s 66ms/step - loss: 2.5830 - accuracy: 0.5218 - val_loss: 1.7387 - val_accuracy: 0.6400\n",
            "Epoch 2/20\n",
            "16/16 [==============================] - 1s 40ms/step - loss: 1.4247 - accuracy: 0.6902 - val_loss: 1.2976 - val_accuracy: 0.6980\n",
            "Epoch 3/20\n",
            "16/16 [==============================] - 1s 41ms/step - loss: 1.0606 - accuracy: 0.7628 - val_loss: 1.1208 - val_accuracy: 0.7360\n",
            "Epoch 4/20\n",
            "16/16 [==============================] - 1s 40ms/step - loss: 0.8314 - accuracy: 0.8135 - val_loss: 1.0192 - val_accuracy: 0.7610\n",
            "Epoch 5/20\n",
            "16/16 [==============================] - 1s 40ms/step - loss: 0.6640 - accuracy: 0.8545 - val_loss: 0.9661 - val_accuracy: 0.7840\n",
            "Epoch 6/20\n",
            "16/16 [==============================] - 1s 40ms/step - loss: 0.5291 - accuracy: 0.8877 - val_loss: 0.9176 - val_accuracy: 0.8060\n",
            "Epoch 7/20\n",
            "16/16 [==============================] - 1s 40ms/step - loss: 0.4290 - accuracy: 0.9105 - val_loss: 0.9117 - val_accuracy: 0.8060\n",
            "Epoch 8/20\n",
            "16/16 [==============================] - 1s 40ms/step - loss: 0.3499 - accuracy: 0.9272 - val_loss: 0.8935 - val_accuracy: 0.8040\n",
            "Epoch 9/20\n",
            "16/16 [==============================] - 1s 41ms/step - loss: 0.2896 - accuracy: 0.9389 - val_loss: 0.8901 - val_accuracy: 0.8110\n",
            "Epoch 10/20\n",
            "16/16 [==============================] - 1s 41ms/step - loss: 0.2421 - accuracy: 0.9476 - val_loss: 0.8990 - val_accuracy: 0.8130\n",
            "Epoch 11/20\n",
            "16/16 [==============================] - 1s 41ms/step - loss: 0.2113 - accuracy: 0.9469 - val_loss: 0.9311 - val_accuracy: 0.8100\n",
            "Epoch 12/20\n",
            "16/16 [==============================] - 1s 41ms/step - loss: 0.1850 - accuracy: 0.9516 - val_loss: 0.9578 - val_accuracy: 0.8010\n",
            "Epoch 13/20\n",
            "16/16 [==============================] - 1s 41ms/step - loss: 0.1655 - accuracy: 0.9541 - val_loss: 0.9261 - val_accuracy: 0.8160\n",
            "Epoch 14/20\n",
            "16/16 [==============================] - 1s 41ms/step - loss: 0.1497 - accuracy: 0.9559 - val_loss: 0.9591 - val_accuracy: 0.8150\n",
            "Epoch 15/20\n",
            "16/16 [==============================] - 1s 42ms/step - loss: 0.1404 - accuracy: 0.9553 - val_loss: 1.0131 - val_accuracy: 0.8020\n",
            "Epoch 16/20\n",
            "16/16 [==============================] - 1s 41ms/step - loss: 0.1297 - accuracy: 0.9565 - val_loss: 1.0737 - val_accuracy: 0.7990\n",
            "Epoch 17/20\n",
            "16/16 [==============================] - 1s 41ms/step - loss: 0.1222 - accuracy: 0.9558 - val_loss: 1.0456 - val_accuracy: 0.8080\n",
            "Epoch 18/20\n",
            "16/16 [==============================] - 1s 41ms/step - loss: 0.1209 - accuracy: 0.9569 - val_loss: 1.0125 - val_accuracy: 0.8140\n",
            "Epoch 19/20\n",
            "16/16 [==============================] - 1s 41ms/step - loss: 0.1171 - accuracy: 0.9573 - val_loss: 1.1130 - val_accuracy: 0.7900\n",
            "Epoch 20/20\n",
            "16/16 [==============================] - 1s 40ms/step - loss: 0.1118 - accuracy: 0.9557 - val_loss: 1.1079 - val_accuracy: 0.7990\n"
          ],
          "name": "stdout"
        }
      ]
    },
    {
      "cell_type": "markdown",
      "metadata": {
        "id": "F10BZnHYP5pK"
      },
      "source": [
        "## Visualization"
      ]
    },
    {
      "cell_type": "code",
      "metadata": {
        "colab": {
          "base_uri": "https://localhost:8080/",
          "height": 573
        },
        "id": "DoQ4t5XzPvY7",
        "outputId": "61ed90f3-f964-4d67-dc54-71f6f94e4a5c"
      },
      "source": [
        "history_dict = history.history\n",
        "loss_values = history_dict['loss']\n",
        "val_loss_values = history_dict['val_loss']\n",
        "epochs = range(1, len(loss_values) + 1)\n",
        "plt.plot(epochs, loss_values, 'bo', label = 'Training loss')\n",
        "plt.plot(epochs, val_loss_values, 'b', label = 'Validation loss')\n",
        "plt.title('Training and Validation Loss')\n",
        "plt.xlabel('Epochs')\n",
        "plt.ylabel('Loss')\n",
        "plt.legend()\n",
        "plt.show()\n",
        "plt.clf()\n",
        "\n",
        "acc_values = history_dict['accuracy']\n",
        "val_acc_values = history_dict['val_accuracy']\n",
        "plt.plot(epochs, acc_values, 'bo', label='Training acc')\n",
        "plt.plot(epochs, val_acc_values, 'b', label='Validation acc')\n",
        "plt.title('Training and Validation Accuracy')\n",
        "plt.xlabel('Epochs')\n",
        "plt.ylabel('Loss')\n",
        "plt.legend()\n",
        "plt.show()"
      ],
      "execution_count": 20,
      "outputs": [
        {
          "output_type": "display_data",
          "data": {
            "image/png": "[encoded data removed]",
            "text/plain": [
              "<Figure size 432x288 with 1 Axes>"
            ]
          },
          "metadata": {
            "tags": [],
            "needs_background": "light"
          }
        },
        {
          "output_type": "display_data",
          "data": {
            "image/png": "[encoded data removed]",
            "text/plain": [
              "<Figure size 432x288 with 1 Axes>"
            ]
          },
          "metadata": {
            "tags": [],
            "needs_background": "light"
          }
        }
      ]
    },
    {
      "cell_type": "code",
      "metadata": {
        "colab": {
          "base_uri": "https://localhost:8080/"
        },
        "id": "V4cPGpatQLM6",
        "outputId": "afa35991-97f1-4fe1-a010-11658940a135"
      },
      "source": [
        "predictions = model.predict(x_test)\n",
        "print(predictions[0])"
      ],
      "execution_count": 23,
      "outputs": [
        {
          "output_type": "stream",
          "text": [
            "[6.33705000e-08 1.48592918e-07 2.79741608e-09 9.90167618e-01\n",
            " 9.26190801e-03 6.12639495e-10 5.26664934e-09 4.15087288e-06\n",
            " 2.87162780e-04 6.12340784e-07 1.20434720e-06 6.31984149e-05\n",
            " 3.59880147e-07 2.25014560e-06 8.18206161e-07 1.67990299e-09\n",
            " 1.16120946e-05 3.41873232e-08 2.82394524e-07 1.67035014e-05\n",
            " 1.38346804e-04 1.29291163e-06 1.38461616e-08 5.62816524e-07\n",
            " 5.14461043e-08 4.40200120e-06 3.88626943e-11 3.27975158e-08\n",
            " 5.23198707e-07 1.34569373e-05 1.54928130e-05 2.32509780e-08\n",
            " 3.86164061e-08 7.61955565e-09 6.57456553e-07 1.71257412e-07\n",
            " 1.01870251e-06 2.19834775e-10 1.47549019e-06 3.22636470e-06\n",
            " 8.80810425e-10 9.35336402e-07 2.43483722e-08 1.63929350e-08\n",
            " 5.27669641e-08 3.71307829e-09]\n"
          ],
          "name": "stdout"
        }
      ]
    },
    {
      "cell_type": "code",
      "metadata": {
        "colab": {
          "base_uri": "https://localhost:8080/"
        },
        "id": "dvEmxV8bQRaM",
        "outputId": "cd39161e-86ae-4442-f63d-5b741685ad31"
      },
      "source": [
        "predictions[0].sum()"
      ],
      "execution_count": 25,
      "outputs": [
        {
          "output_type": "execute_result",
          "data": {
            "text/plain": [
              "1.0"
            ]
          },
          "metadata": {
            "tags": []
          },
          "execution_count": 25
        }
      ]
    },
    {
      "cell_type": "code",
      "metadata": {
        "colab": {
          "base_uri": "https://localhost:8080/"
        },
        "id": "0iJBZ2uvQoMS",
        "outputId": "f476aa3b-fcd9-4d91-e189-9a76dda93902"
      },
      "source": [
        "predictions.shape"
      ],
      "execution_count": 26,
      "outputs": [
        {
          "output_type": "execute_result",
          "data": {
            "text/plain": [
              "(2246, 46)"
            ]
          },
          "metadata": {
            "tags": []
          },
          "execution_count": 26
        }
      ]
    },
    {
      "cell_type": "code",
      "metadata": {
        "colab": {
          "base_uri": "https://localhost:8080/"
        },
        "id": "56WcJbBnQpn8",
        "outputId": "3065e5f6-cf79-4062-9bd6-8e9509050b2c"
      },
      "source": [
        "predictions[0].argmax()"
      ],
      "execution_count": 28,
      "outputs": [
        {
          "output_type": "execute_result",
          "data": {
            "text/plain": [
              "3"
            ]
          },
          "metadata": {
            "tags": []
          },
          "execution_count": 28
        }
      ]
    },
    {
      "cell_type": "markdown",
      "metadata": {
        "id": "FNfdCuaPQ61C"
      },
      "source": [
        "## Alternative Approach Labels instead of One_Hot_Encoding"
      ]
    },
    {
      "cell_type": "code",
      "metadata": {
        "id": "Jo5mA8-GQ14T"
      },
      "source": [
        "y_train = np.array(train_labels)\n",
        "y_test = np.array(test_labels)"
      ],
      "execution_count": 29,
      "outputs": []
    },
    {
      "cell_type": "code",
      "metadata": {
        "colab": {
          "base_uri": "https://localhost:8080/"
        },
        "id": "Ug6kce4aRjWL",
        "outputId": "ce99b79f-79f7-4462-af65-51c9c2f0ae0f"
      },
      "source": [
        "# Using 'sparse_categorical_crossentropy'\n",
        "model.compile(optimizer='rmsprop', loss='sparse_categorical_crossentropy', metrics=['accuracy'])\n",
        "history=model.fit(x_train, y_train, epochs=20, batch_size=512)"
      ],
      "execution_count": 31,
      "outputs": [
        {
          "output_type": "stream",
          "text": [
            "Epoch 1/20\n",
            "18/18 [==============================] - 1s 38ms/step - loss: 0.2378 - accuracy: 0.9390\n",
            "Epoch 2/20\n",
            "18/18 [==============================] - 1s 39ms/step - loss: 0.1585 - accuracy: 0.9488\n",
            "Epoch 3/20\n",
            "18/18 [==============================] - 1s 38ms/step - loss: 0.1412 - accuracy: 0.9515\n",
            "Epoch 4/20\n",
            "18/18 [==============================] - 1s 37ms/step - loss: 0.1264 - accuracy: 0.9525\n",
            "Epoch 5/20\n",
            "18/18 [==============================] - 1s 36ms/step - loss: 0.1206 - accuracy: 0.9552\n",
            "Epoch 6/20\n",
            "18/18 [==============================] - 1s 38ms/step - loss: 0.1137 - accuracy: 0.9560\n",
            "Epoch 7/20\n",
            "18/18 [==============================] - 1s 36ms/step - loss: 0.1152 - accuracy: 0.9552\n",
            "Epoch 8/20\n",
            "18/18 [==============================] - 1s 38ms/step - loss: 0.1102 - accuracy: 0.9548\n",
            "Epoch 9/20\n",
            "18/18 [==============================] - 1s 37ms/step - loss: 0.1083 - accuracy: 0.9560\n",
            "Epoch 10/20\n",
            "18/18 [==============================] - 1s 37ms/step - loss: 0.1042 - accuracy: 0.9544\n",
            "Epoch 11/20\n",
            "18/18 [==============================] - 1s 37ms/step - loss: 0.1006 - accuracy: 0.9574\n",
            "Epoch 12/20\n",
            "18/18 [==============================] - 1s 37ms/step - loss: 0.1039 - accuracy: 0.9564\n",
            "Epoch 13/20\n",
            "18/18 [==============================] - 1s 37ms/step - loss: 0.1020 - accuracy: 0.9548\n",
            "Epoch 14/20\n",
            "18/18 [==============================] - 1s 38ms/step - loss: 0.0990 - accuracy: 0.9557\n",
            "Epoch 15/20\n",
            "18/18 [==============================] - 1s 37ms/step - loss: 0.0973 - accuracy: 0.9562\n",
            "Epoch 16/20\n",
            "18/18 [==============================] - 1s 37ms/step - loss: 0.0962 - accuracy: 0.9552\n",
            "Epoch 17/20\n",
            "18/18 [==============================] - 1s 37ms/step - loss: 0.0967 - accuracy: 0.9555\n",
            "Epoch 18/20\n",
            "18/18 [==============================] - 1s 39ms/step - loss: 0.0932 - accuracy: 0.9566\n",
            "Epoch 19/20\n",
            "18/18 [==============================] - 1s 37ms/step - loss: 0.0949 - accuracy: 0.9560\n",
            "Epoch 20/20\n",
            "18/18 [==============================] - 1s 38ms/step - loss: 0.0962 - accuracy: 0.9552\n"
          ],
          "name": "stdout"
        }
      ]
    },
    {
      "cell_type": "code",
      "metadata": {
        "colab": {
          "base_uri": "https://localhost:8080/"
        },
        "id": "ZpzmTl00TUxq",
        "outputId": "1f98b022-ddf5-46d4-abe8-66f700a44b90"
      },
      "source": [
        "predictions = model.predict(x_test)\n",
        "print(predictions[0])"
      ],
      "execution_count": 32,
      "outputs": [
        {
          "output_type": "stream",
          "text": [
            "[5.73115642e-07 5.59696900e-07 8.40697789e-10 9.76131678e-01\n",
            " 2.25506220e-02 1.57192261e-12 2.42226603e-11 5.71040232e-07\n",
            " 8.32789985e-04 6.00676174e-07 4.13642874e-06 2.15308792e-05\n",
            " 1.07225112e-07 1.63137986e-06 8.67261249e-08 3.13746841e-11\n",
            " 1.31211258e-04 2.95075289e-08 3.21910143e-08 9.34030468e-05\n",
            " 2.19318157e-04 9.34980449e-07 2.91242030e-10 5.04576064e-07\n",
            " 1.74164239e-09 1.29009209e-06 3.62610527e-15 1.01918210e-10\n",
            " 7.93523384e-07 1.40118993e-06 1.79834683e-06 1.28576349e-12\n",
            " 6.55716237e-09 1.62729361e-11 1.03725142e-07 1.29873552e-08\n",
            " 4.05713621e-07 2.17612300e-11 3.86527654e-06 1.14631426e-07\n",
            " 6.22434271e-10 1.07204610e-08 9.56600164e-12 1.13601246e-11\n",
            " 1.33117063e-12 1.37504712e-11]\n"
          ],
          "name": "stdout"
        }
      ]
    },
    {
      "cell_type": "code",
      "metadata": {
        "colab": {
          "base_uri": "https://localhost:8080/"
        },
        "id": "wQOEXQHKTSUy",
        "outputId": "2c6ee32b-0222-40f0-dc70-0fdf12b2c8f5"
      },
      "source": [
        "predictions[0].sum()"
      ],
      "execution_count": 33,
      "outputs": [
        {
          "output_type": "execute_result",
          "data": {
            "text/plain": [
              "1.0000001"
            ]
          },
          "metadata": {
            "tags": []
          },
          "execution_count": 33
        }
      ]
    },
    {
      "cell_type": "code",
      "metadata": {
        "colab": {
          "base_uri": "https://localhost:8080/"
        },
        "id": "gexIpKt0TYYq",
        "outputId": "ea02db4b-5e27-4b6a-ff80-f7b5276ba3e1"
      },
      "source": [
        "predictions[0].argmax()"
      ],
      "execution_count": 34,
      "outputs": [
        {
          "output_type": "execute_result",
          "data": {
            "text/plain": [
              "3"
            ]
          },
          "metadata": {
            "tags": []
          },
          "execution_count": 34
        }
      ]
    }
  ]
}