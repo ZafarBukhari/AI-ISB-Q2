{
 "cells": [
  {
   "cell_type": "markdown",
   "metadata": {},
   "source": [
    "# Function Application & Mapping in Pandas"
   ]
  },
  {
   "cell_type": "code",
   "execution_count": 1,
   "metadata": {},
   "outputs": [],
   "source": [
    "import numpy as np\n",
    "import pandas as pd"
   ]
  },
  {
   "cell_type": "code",
   "execution_count": 2,
   "metadata": {},
   "outputs": [
    {
     "name": "stdout",
     "output_type": "stream",
     "text": [
      "               b         c         d\n",
      "Utah    0.525488  1.280144 -0.354225\n",
      "Othio  -0.741145 -0.108834 -2.101504\n",
      "Texas   0.473022  0.460204  0.652968\n",
      "Oregon  0.689122 -0.003189 -0.372184\n"
     ]
    }
   ],
   "source": [
    "frame = pd.DataFrame(np.random.randn(4,3),    # Numpy random function randn is used to create 4 x 3 ndarray\n",
    "                    columns=list('bcd'),      # column labels are passed as 'b', 'c' & 'd'\n",
    "                    index=['Utah', 'Othio', 'Texas', 'Oregon'])  # custom row-indexes are passed\n",
    "\n",
    "print(frame)"
   ]
  },
  {
   "cell_type": "code",
   "execution_count": 3,
   "metadata": {},
   "outputs": [
    {
     "name": "stdout",
     "output_type": "stream",
     "text": [
      "               b         c         d\n",
      "Utah    0.525488  1.280144  0.354225\n",
      "Othio   0.741145  0.108834  2.101504\n",
      "Texas   0.473022  0.460204  0.652968\n",
      "Oregon  0.689122  0.003189  0.372184\n"
     ]
    }
   ],
   "source": [
    "# This numpy function converts negative values into positive\n",
    "\n",
    "print(np.abs(frame))"
   ]
  },
  {
   "cell_type": "markdown",
   "metadata": {},
   "source": [
    "## Displaying Minimun, Maximum Values from a DataFrame"
   ]
  },
  {
   "cell_type": "code",
   "execution_count": 4,
   "metadata": {},
   "outputs": [
    {
     "name": "stdout",
     "output_type": "stream",
     "text": [
      "               b         c         d\n",
      "Utah    0.525488  1.280144 -0.354225\n",
      "Othio  -0.741145 -0.108834 -2.101504\n",
      "Texas   0.473022  0.460204  0.652968\n",
      "Oregon  0.689122 -0.003189 -0.372184\n"
     ]
    }
   ],
   "source": [
    "# DataFrame original state\n",
    "\n",
    "print(frame)"
   ]
  },
  {
   "cell_type": "code",
   "execution_count": 5,
   "metadata": {},
   "outputs": [
    {
     "name": "stdout",
     "output_type": "stream",
     "text": [
      "-0.10883377381189312\n"
     ]
    }
   ],
   "source": [
    "# This will return minimum value of colum 'c'\n",
    "\n",
    "print(frame['c'].min())"
   ]
  },
  {
   "cell_type": "code",
   "execution_count": 6,
   "metadata": {},
   "outputs": [
    {
     "name": "stdout",
     "output_type": "stream",
     "text": [
      "1.2801443740765666\n"
     ]
    }
   ],
   "source": [
    "# This will return maximum value of colum 'c'\n",
    "\n",
    "print(frame['c'].max())"
   ]
  },
  {
   "cell_type": "code",
   "execution_count": 7,
   "metadata": {},
   "outputs": [
    {
     "name": "stdout",
     "output_type": "stream",
     "text": [
      "1.3889781478884597\n"
     ]
    }
   ],
   "source": [
    "# This will return difference of Maximum and Minimum Values of DataFrame i.e. frame\n",
    "\n",
    "print(frame['c'].max() - frame['c'].min())"
   ]
  },
  {
   "cell_type": "code",
   "execution_count": 8,
   "metadata": {},
   "outputs": [
    {
     "name": "stdout",
     "output_type": "stream",
     "text": [
      "b    1.430267\n",
      "c    1.388978\n",
      "d    2.754471\n",
      "dtype: float64 <class 'pandas.core.series.Series'>\n"
     ]
    }
   ],
   "source": [
    "# lambda function to store in variable 'x', the difference of min() & Mix() of each column of frame\n",
    "\n",
    "f = lambda x: x.max() - x.min()\n",
    "df = frame.apply(f)\n",
    "print(df, type(df))"
   ]
  },
  {
   "cell_type": "code",
   "execution_count": 9,
   "metadata": {},
   "outputs": [
    {
     "name": "stdout",
     "output_type": "stream",
     "text": [
      "Utah      1.634369\n",
      "Othio     1.992670\n",
      "Texas     0.192764\n",
      "Oregon    1.061306\n",
      "dtype: float64\n"
     ]
    }
   ],
   "source": [
    "# Now, function 'f' will apply on each row-index of frame, and will find diff of max and min value of each row.\n",
    "\n",
    "df = frame.apply(f, axis=1)\n",
    "print(df)"
   ]
  },
  {
   "cell_type": "code",
   "execution_count": 10,
   "metadata": {},
   "outputs": [
    {
     "name": "stdout",
     "output_type": "stream",
     "text": [
      "            b         c         d\n",
      "min -0.741145 -0.108834 -2.101504\n",
      "max  0.689122  1.280144  0.652968 <class 'pandas.core.frame.DataFrame'>\n"
     ]
    }
   ],
   "source": [
    "# A function min_max is defined to create a new Pandas Series having two index-rows \n",
    "# with min and max values of taxee columns\n",
    "\n",
    "def min_max(x):\n",
    "    minimum = x.min()    # this will derive minimum value from each column\n",
    "    maximum = x.max()    # this will derive maximum value from each column\n",
    "    return pd.Series( [minimum, maximum ], index=['min', 'max'] )  # this will return new series of min and max values\n",
    "\n",
    "df = frame.apply(min_max)       # function call stored in variable 'df'\n",
    "print(df, type(df))"
   ]
  },
  {
   "cell_type": "code",
   "execution_count": 11,
   "metadata": {},
   "outputs": [
    {
     "name": "stdout",
     "output_type": "stream",
     "text": [
      "            b         c         d\n",
      "min -0.741145 -0.108834 -2.101504\n",
      "max  0.689122  1.280144  0.652968 <class 'pandas.core.frame.DataFrame'>\n"
     ]
    }
   ],
   "source": [
    "# Another way of above quoted function\n",
    "\n",
    "def min_max(x):    \n",
    "    return pd.Series( [ x.min(), x.max() ], index=['min', 'max'] )  # this will return new series of min and max values\n",
    "\n",
    "df = frame.apply(min_max)       # function call stored in variable 'df'\n",
    "print(df, type(df))"
   ]
  },
  {
   "cell_type": "markdown",
   "metadata": {},
   "source": [
    "# Sorting and Ranking"
   ]
  },
  {
   "cell_type": "code",
   "execution_count": 12,
   "metadata": {},
   "outputs": [
    {
     "name": "stdout",
     "output_type": "stream",
     "text": [
      "       d  a  b  c\n",
      "three  0  1  2  3\n",
      "one    4  5  6  7\n"
     ]
    }
   ],
   "source": [
    "# A new Pandas DataFrame 'frame2' is created\n",
    "\n",
    "frame2 = pd.DataFrame(np.arange(8).reshape((2,4)),\n",
    "                     index=['three', 'one'],\n",
    "                     columns=['d', 'a', 'b', 'c'])\n",
    "\n",
    "print(frame2)"
   ]
  },
  {
   "cell_type": "markdown",
   "metadata": {},
   "source": [
    "## Sorting by order of 'Index'"
   ]
  },
  {
   "cell_type": "code",
   "execution_count": 13,
   "metadata": {},
   "outputs": [
    {
     "name": "stdout",
     "output_type": "stream",
     "text": [
      "       d  c  b  a\n",
      "three  0  3  2  1\n",
      "one    4  7  6  5\n"
     ]
    }
   ],
   "source": [
    "print(frame2.sort_index(axis=1, ascending=False))"
   ]
  },
  {
   "cell_type": "code",
   "execution_count": 14,
   "metadata": {},
   "outputs": [
    {
     "name": "stdout",
     "output_type": "stream",
     "text": [
      "       d  c  b  a\n",
      "three  0  3  2  1\n",
      "one    4  7  6  5\n"
     ]
    }
   ],
   "source": [
    "\n",
    "print(frame2.sort_index(axis=1, ascending=False))"
   ]
  },
  {
   "cell_type": "code",
   "execution_count": 15,
   "metadata": {},
   "outputs": [
    {
     "name": "stdout",
     "output_type": "stream",
     "text": [
      "       d  a  b  c\n",
      "one    4  5  6  7\n",
      "three  0  1  2  3\n"
     ]
    }
   ],
   "source": [
    "# This will again the DataFrame and columns will be sorted in its original shape \n",
    "# but row index will be sorted in reverse order\n",
    "\n",
    "print(frame2.sort_index())"
   ]
  },
  {
   "cell_type": "markdown",
   "metadata": {},
   "source": [
    "## Sorting by order of 'Values'"
   ]
  },
  {
   "cell_type": "code",
   "execution_count": 16,
   "metadata": {},
   "outputs": [
    {
     "name": "stdout",
     "output_type": "stream",
     "text": [
      "               b         c         d\n",
      "Utah   -1.772203 -0.331749 -0.898691\n",
      "Othio   2.001659  1.332388 -0.851815\n",
      "Texas   0.879690  0.032887  0.292377\n",
      "Oregon -0.247259 -0.503726 -0.533180\n"
     ]
    }
   ],
   "source": [
    "frame = pd.DataFrame(np.random.randn(4,3),    # Numpy random function randn is used to create 4 x 3 ndarray\n",
    "                    columns=list('bcd'),      # column labels are passed as 'b', 'c' & 'd'\n",
    "                    index=['Utah', 'Othio', 'Texas', 'Oregon'])  # custom row-indexes are passed\n",
    "\n",
    "print(frame)"
   ]
  },
  {
   "cell_type": "code",
   "execution_count": 17,
   "metadata": {},
   "outputs": [
    {
     "name": "stdout",
     "output_type": "stream",
     "text": [
      "               b         c         d\n",
      "Utah   -1.772203 -0.331749 -0.898691\n",
      "Oregon -0.247259 -0.503726 -0.533180\n",
      "Texas   0.879690  0.032887  0.292377\n",
      "Othio   2.001659  1.332388 -0.851815\n"
     ]
    }
   ],
   "source": [
    "# This will sort by values of column-'b'\n",
    "\n",
    "print(frame.sort_values(by='b'))"
   ]
  },
  {
   "cell_type": "code",
   "execution_count": 18,
   "metadata": {},
   "outputs": [
    {
     "name": "stdout",
     "output_type": "stream",
     "text": [
      "          b    c    d\n",
      "Utah    4.0  3.0  4.0\n",
      "Othio   1.0  1.0  3.0\n",
      "Texas   2.0  2.0  1.0\n",
      "Oregon  3.0  4.0  2.0\n"
     ]
    }
   ],
   "source": [
    "\n",
    "\n",
    "print(frame.rank(ascending=False, method='max'))"
   ]
  },
  {
   "cell_type": "code",
   "execution_count": 19,
   "metadata": {},
   "outputs": [
    {
     "name": "stdout",
     "output_type": "stream",
     "text": [
      "          b    c    d\n",
      "Utah    1.0  2.0  1.0\n",
      "Othio   4.0  4.0  2.0\n",
      "Texas   3.0  3.0  4.0\n",
      "Oregon  2.0  1.0  3.0\n"
     ]
    }
   ],
   "source": [
    "print(frame.rank(ascending=True, method='min'))"
   ]
  },
  {
   "cell_type": "code",
   "execution_count": 20,
   "metadata": {},
   "outputs": [
    {
     "name": "stdout",
     "output_type": "stream",
     "text": [
      "          b    c    d\n",
      "Utah    1.0  3.0  2.0\n",
      "Othio   3.0  2.0  1.0\n",
      "Texas   3.0  1.0  2.0\n",
      "Oregon  3.0  2.0  1.0\n"
     ]
    }
   ],
   "source": [
    "print(frame.rank(axis='columns'))"
   ]
  },
  {
   "cell_type": "markdown",
   "metadata": {},
   "source": [
    "# Summarizing & Computing the Descriptive Statistics"
   ]
  },
  {
   "cell_type": "code",
   "execution_count": 21,
   "metadata": {},
   "outputs": [
    {
     "name": "stdout",
     "output_type": "stream",
     "text": [
      "    one  two\n",
      "a  1.40  NaN\n",
      "b  7.10 -4.5\n",
      "c   NaN  NaN\n",
      "d  0.75 -1.3\n"
     ]
    }
   ],
   "source": [
    "# Another DataFrame 'df' is created using Numpy 'np.nan' value\n",
    "\n",
    "df = pd.DataFrame([\n",
    "    [1.4, np.nan],[7.1, -4.5],\n",
    "    [np.nan, np.nan], [0.75, -1.3]],\n",
    "    index = ['a', 'b', 'c', 'd'], columns=['one', 'two'])\n",
    "\n",
    "print(df)"
   ]
  },
  {
   "cell_type": "code",
   "execution_count": 22,
   "metadata": {},
   "outputs": [
    {
     "data": {
      "text/plain": [
       "one    9.25\n",
       "two   -5.80\n",
       "dtype: float64"
      ]
     },
     "execution_count": 22,
     "metadata": {},
     "output_type": "execute_result"
    }
   ],
   "source": [
    "# Summing up both columns using 'sum()'\n",
    "\n",
    "df.sum()"
   ]
  },
  {
   "cell_type": "code",
   "execution_count": 23,
   "metadata": {},
   "outputs": [
    {
     "data": {
      "text/plain": [
       "one    9.25\n",
       "two   -5.80\n",
       "dtype: float64"
      ]
     },
     "execution_count": 23,
     "metadata": {},
     "output_type": "execute_result"
    }
   ],
   "source": [
    "# Similar to above, that is 'axis=rows'\n",
    "# Summing up both columns using 'sum()'\n",
    "\n",
    "df.sum(axis='rows')"
   ]
  },
  {
   "cell_type": "code",
   "execution_count": 24,
   "metadata": {},
   "outputs": [
    {
     "data": {
      "text/plain": [
       "one    9.25\n",
       "two   -5.80\n",
       "dtype: float64"
      ]
     },
     "execution_count": 24,
     "metadata": {},
     "output_type": "execute_result"
    }
   ],
   "source": [
    "# Similar to both of above, that is 'axis=0' or 'axis=rows'\n",
    "# Summing up both columns using 'sum()'\n",
    "\n",
    "df.sum(axis = 0)"
   ]
  },
  {
   "cell_type": "code",
   "execution_count": 25,
   "metadata": {},
   "outputs": [
    {
     "data": {
      "text/plain": [
       "a    1.40\n",
       "b    2.60\n",
       "c    0.00\n",
       "d   -0.55\n",
       "dtype: float64"
      ]
     },
     "execution_count": 25,
     "metadata": {},
     "output_type": "execute_result"
    }
   ],
   "source": [
    "# row-wise sum of both columns is performed\n",
    "\n",
    "df.sum(axis = 'columns')"
   ]
  },
  {
   "cell_type": "code",
   "execution_count": 26,
   "metadata": {},
   "outputs": [
    {
     "data": {
      "text/plain": [
       "a    1.40\n",
       "b    2.60\n",
       "c    0.00\n",
       "d   -0.55\n",
       "dtype: float64"
      ]
     },
     "execution_count": 26,
     "metadata": {},
     "output_type": "execute_result"
    }
   ],
   "source": [
    "# This is similar to 'axis = columns'\n",
    "# row-wise sum of both columns is performed\n",
    "\n",
    "df.sum(axis = 1)"
   ]
  },
  {
   "cell_type": "code",
   "execution_count": 27,
   "metadata": {},
   "outputs": [
    {
     "name": "stdout",
     "output_type": "stream",
     "text": [
      "    one  two\n",
      "a  1.40  NaN\n",
      "b  7.10 -4.5\n",
      "c   NaN  NaN\n",
      "d  0.75 -1.3\n",
      "* * * * * * * * * *\n",
      "a      NaN\n",
      "b    1.300\n",
      "c      NaN\n",
      "d   -0.275\n",
      "dtype: float64\n"
     ]
    }
   ],
   "source": [
    "print(df)\n",
    "print('* * * * * * * * * *')\n",
    "\n",
    "# This will calculate mean (average) of each row\n",
    "# 'skipna = False' will not skip the NaN values and will not perform mean where found\n",
    "x = df.mean(axis='columns', skipna = False)\n",
    "\n",
    "print(x)"
   ]
  },
  {
   "cell_type": "code",
   "execution_count": 28,
   "metadata": {},
   "outputs": [
    {
     "name": "stdout",
     "output_type": "stream",
     "text": [
      "a    1.400\n",
      "b    1.300\n",
      "c      NaN\n",
      "d   -0.275\n",
      "dtype: float64\n"
     ]
    }
   ],
   "source": [
    "# This will calculate row-wise mean\n",
    "# 'skipna = True' will skip the 'NaN' values resultantly will calculate mean even found 'NaN' values in that row\n",
    "\n",
    "y = df.mean(axis='columns', skipna = True)\n",
    "print(y)"
   ]
  },
  {
   "cell_type": "code",
   "execution_count": 29,
   "metadata": {},
   "outputs": [
    {
     "name": "stdout",
     "output_type": "stream",
     "text": [
      "a    1.400\n",
      "b    1.300\n",
      "c      NaN\n",
      "d   -0.275\n",
      "dtype: float64\n"
     ]
    }
   ],
   "source": [
    "# This will also calculate 'Mean'\n",
    "# Eliminating 'skipna' is similar to 'skipna = True'\n",
    "\n",
    "y = df.mean(axis='columns')\n",
    "print(y)"
   ]
  },
  {
   "cell_type": "code",
   "execution_count": 30,
   "metadata": {},
   "outputs": [
    {
     "name": "stdout",
     "output_type": "stream",
     "text": [
      "    one  two  three  four\n",
      "a  1.40  1.4    1.5   NaN\n",
      "b  7.10 -4.5    1.5   1.4\n",
      "c  1.40  NaN    0.5   NaN\n",
      "d  0.75 -1.3    1.3   NaN\n"
     ]
    }
   ],
   "source": [
    "# Another DataFrame 'df' is created using Numpy 'np.nan' value\n",
    "\n",
    "df2 = pd.DataFrame([\n",
    "    [1.4, 1.4, 1.5, np.nan, ],[7.1, -4.5, 1.5, 1.4],\n",
    "    [1.4, np.nan, 0.5, np.nan ], [0.75, -1.3, 1.3, np.nan]],\n",
    "    index = ['a', 'b', 'c', 'd'], columns=['one', 'two', 'three', 'four'])\n",
    "\n",
    "print(df2)"
   ]
  },
  {
   "cell_type": "code",
   "execution_count": 31,
   "metadata": {},
   "outputs": [
    {
     "name": "stdout",
     "output_type": "stream",
     "text": [
      "[1.4  7.1  0.75] [ 1.4 -4.5  nan -1.3]\n"
     ]
    }
   ],
   "source": [
    "# This will return unique values of desired columns\n",
    "\n",
    "print(df2['one'].unique(), df2['two'].unique())"
   ]
  },
  {
   "cell_type": "code",
   "execution_count": 32,
   "metadata": {},
   "outputs": [
    {
     "name": "stdout",
     "output_type": "stream",
     "text": [
      "1.40    2\n",
      "0.75    1\n",
      "7.10    1\n",
      "Name: one, dtype: int64\n"
     ]
    }
   ],
   "source": [
    "# this will return count of each value in desired column of DataFrame i.e. 'df'\n",
    "\n",
    "print(df2['one'].value_counts())"
   ]
  },
  {
   "cell_type": "markdown",
   "metadata": {},
   "source": [
    "## Selection of data using 'loc' & 'iloc' attribute"
   ]
  },
  {
   "cell_type": "markdown",
   "metadata": {},
   "source": [
    "- In the 'loc' method:\n",
    "    - First, specify row-label\n",
    "    - Then specify column-names\n",
    "    - remember! multiple row-labels and column-names require 'array notation'\n",
    "    - For example, print(data_df.loc['colorado', ['two', 'three']])"
   ]
  },
  {
   "cell_type": "markdown",
   "metadata": {},
   "source": [
    "- In the 'iloc' method:\n",
    "    - 'iloc' represents 'index-location'\n",
    "    - Here, similar to 'loc' method row-index is specified firt\n",
    "    - Then column-index is specified"
   ]
  },
  {
   "cell_type": "code",
   "execution_count": 33,
   "metadata": {},
   "outputs": [
    {
     "name": "stdout",
     "output_type": "stream",
     "text": [
      "          one  two  three  four\n",
      "Ohio        0    1      2     3\n",
      "Colorado    4    5      6     7\n",
      "Utah        8    9     10    11\n",
      "New York   12   13     14    15\n"
     ]
    }
   ],
   "source": [
    "# A 4 x 4 ndarray is created using Numpy arange function and stored in Pandas DataFrame i.e. 'data_df'\n",
    "\n",
    "data_df = pd.DataFrame(np.arange(16).reshape(4,4),\n",
    "                     index = ['Ohio', 'Colorado', 'Utah', 'New York'],\n",
    "                     columns = ['one', 'two', 'three', 'four'])\n",
    "\n",
    "print(data_df)                     "
   ]
  },
  {
   "cell_type": "code",
   "execution_count": 34,
   "metadata": {},
   "outputs": [
    {
     "name": "stdout",
     "output_type": "stream",
     "text": [
      "two      5\n",
      "four     7\n",
      "three    6\n",
      "Name: Colorado, dtype: int32\n"
     ]
    }
   ],
   "source": [
    "# 'loc' attribute is used to display all values of columns 'two', 'four' & 'three' of row-index 'Colorado'\n",
    "#  in 'loc' method, row-labels and column-names are used\n",
    "\n",
    "print(data_df.loc['Colorado', ['two', 'four', 'three']])"
   ]
  },
  {
   "cell_type": "code",
   "execution_count": 35,
   "metadata": {},
   "outputs": [
    {
     "name": "stdout",
     "output_type": "stream",
     "text": [
      "          two  four  three\n",
      "Colorado    5     7      6\n",
      "Ohio        1     3      2\n"
     ]
    }
   ],
   "source": [
    "# 'loc' attribute is used to select all values of columns 'two', 'four' & 'three' of row-index 'Colorado' & 'Ohio'\n",
    "#  in 'loc' method, row-labels and column-names are used\n",
    "\n",
    "print(data_df.loc[['Colorado', 'Ohio'], ['two', 'four', 'three']])"
   ]
  },
  {
   "cell_type": "code",
   "execution_count": 36,
   "metadata": {},
   "outputs": [
    {
     "name": "stdout",
     "output_type": "stream",
     "text": [
      "          two  four  three\n",
      "Colorado    5     7      6\n",
      "Ohio        1     3      2\n"
     ]
    }
   ],
   "source": [
    "# Similar selection is perform but with 'iloc' attribute\n",
    "# Here, instead of index-labels and column-names, row-index and column-index are specified to perform the selection\n",
    "# In Numpy, this style of selection is called 'fancy-indexing'\n",
    "\n",
    "print(data_df.iloc[[1, 0], [1, 3, 2]])"
   ]
  },
  {
   "cell_type": "code",
   "execution_count": 37,
   "metadata": {},
   "outputs": [
    {
     "data": {
      "text/plain": [
       "four    11\n",
       "one      8\n",
       "two      9\n",
       "Name: Utah, dtype: int32"
      ]
     },
     "execution_count": 37,
     "metadata": {},
     "output_type": "execute_result"
    }
   ],
   "source": [
    "# 'iloc' attribute is used to select data using index-number of row-lables and then column-indexes\n",
    "\n",
    "data_df.iloc[2, [3, 0, 1]]"
   ]
  },
  {
   "cell_type": "code",
   "execution_count": 38,
   "metadata": {},
   "outputs": [
    {
     "data": {
      "text/html": [
       "<div>\n",
       "<style scoped>\n",
       "    .dataframe tbody tr th:only-of-type {\n",
       "        vertical-align: middle;\n",
       "    }\n",
       "\n",
       "    .dataframe tbody tr th {\n",
       "        vertical-align: top;\n",
       "    }\n",
       "\n",
       "    .dataframe thead th {\n",
       "        text-align: right;\n",
       "    }\n",
       "</style>\n",
       "<table border=\"1\" class=\"dataframe\">\n",
       "  <thead>\n",
       "    <tr style=\"text-align: right;\">\n",
       "      <th></th>\n",
       "      <th>four</th>\n",
       "      <th>one</th>\n",
       "      <th>two</th>\n",
       "    </tr>\n",
       "  </thead>\n",
       "  <tbody>\n",
       "    <tr>\n",
       "      <th>Utah</th>\n",
       "      <td>11</td>\n",
       "      <td>8</td>\n",
       "      <td>9</td>\n",
       "    </tr>\n",
       "    <tr>\n",
       "      <th>New York</th>\n",
       "      <td>15</td>\n",
       "      <td>12</td>\n",
       "      <td>13</td>\n",
       "    </tr>\n",
       "  </tbody>\n",
       "</table>\n",
       "</div>"
      ],
      "text/plain": [
       "          four  one  two\n",
       "Utah        11    8    9\n",
       "New York    15   12   13"
      ]
     },
     "execution_count": 38,
     "metadata": {},
     "output_type": "execute_result"
    }
   ],
   "source": [
    "# 'iloc' attribute is used to display data of two rows using index-number of row-lables and then column-indexes\n",
    "# this will return data of rows 'third till end i.e. four' and columns-index are ordered 3, 0 and in the last 1\n",
    "\n",
    "data_df.iloc[2:, [3, 0, 1]]"
   ]
  },
  {
   "cell_type": "code",
   "execution_count": 39,
   "metadata": {},
   "outputs": [
    {
     "name": "stdout",
     "output_type": "stream",
     "text": [
      "          one  two  three  four\n",
      "Ohio        0    1      2     3\n",
      "Colorado    4    5      6     7\n",
      "Utah        8    9     10    11\n",
      "New York   12   13     14    15\n"
     ]
    }
   ],
   "source": [
    "# in this example, 'iloc' attribute will display all rows and all columns of DataFrame i.e. 'data_df'\n",
    "\n",
    "print(data_df.iloc[:])"
   ]
  },
  {
   "cell_type": "code",
   "execution_count": 40,
   "metadata": {},
   "outputs": [
    {
     "name": "stdout",
     "output_type": "stream",
     "text": [
      "          one  two  three\n",
      "Ohio        0    1      2\n",
      "Colorado    4    5      6\n",
      "Utah        8    9     10\n",
      "New York   12   13     14\n"
     ]
    }
   ],
   "source": [
    "# This will display all rows and only first three columns\n",
    "# whose index numbers are 0, 1, & 2 i.e. columns One, two and three\n",
    "# It clarifies, if we need all rows but some columns therefore, this type of selection should be specified i.e.[:,:3]\n",
    "# In the case [:,:3] means, all row are required but only column index-0 to 2 are required.\n",
    "\n",
    "print(data_df.iloc[ :, :3 ])"
   ]
  },
  {
   "cell_type": "code",
   "execution_count": 41,
   "metadata": {},
   "outputs": [
    {
     "name": "stdout",
     "output_type": "stream",
     "text": [
      "          one  two  three  four\n",
      "Ohio        0    1      2     3\n",
      "Colorado    4    5      6     7\n"
     ]
    }
   ],
   "source": [
    "# This will display data of only two rows that are at index 0 & 1 and it will display all columns\n",
    "\n",
    "print(data_df.iloc[:2])"
   ]
  },
  {
   "cell_type": "code",
   "execution_count": 42,
   "metadata": {},
   "outputs": [
    {
     "name": "stdout",
     "output_type": "stream",
     "text": [
      "Ohio        False\n",
      "Colorado     True\n",
      "Utah         True\n",
      "New York     True\n",
      "Name: three, dtype: bool\n"
     ]
    }
   ],
   "source": [
    "# This will return boolean value to display whether values of column-label 'three' is greater than 5 or otherwise\n",
    "# row-index 'Ohio' has value 2 in column-label 'three', so it will display 'False' and all other will be 'True'\n",
    "\n",
    "print(data_df.three > 5)"
   ]
  },
  {
   "cell_type": "markdown",
   "metadata": {},
   "source": [
    "# Arithmatic & Data Alignment"
   ]
  },
  {
   "cell_type": "code",
   "execution_count": 43,
   "metadata": {
    "scrolled": true
   },
   "outputs": [
    {
     "data": {
      "text/html": [
       "<div>\n",
       "<style scoped>\n",
       "    .dataframe tbody tr th:only-of-type {\n",
       "        vertical-align: middle;\n",
       "    }\n",
       "\n",
       "    .dataframe tbody tr th {\n",
       "        vertical-align: top;\n",
       "    }\n",
       "\n",
       "    .dataframe thead th {\n",
       "        text-align: right;\n",
       "    }\n",
       "</style>\n",
       "<table border=\"1\" class=\"dataframe\">\n",
       "  <thead>\n",
       "    <tr style=\"text-align: right;\">\n",
       "      <th></th>\n",
       "      <th>b</th>\n",
       "      <th>c</th>\n",
       "      <th>d</th>\n",
       "    </tr>\n",
       "  </thead>\n",
       "  <tbody>\n",
       "    <tr>\n",
       "      <th>Ohio</th>\n",
       "      <td>0</td>\n",
       "      <td>1</td>\n",
       "      <td>2</td>\n",
       "    </tr>\n",
       "    <tr>\n",
       "      <th>Texas</th>\n",
       "      <td>3</td>\n",
       "      <td>4</td>\n",
       "      <td>5</td>\n",
       "    </tr>\n",
       "    <tr>\n",
       "      <th>Colorado</th>\n",
       "      <td>6</td>\n",
       "      <td>7</td>\n",
       "      <td>8</td>\n",
       "    </tr>\n",
       "  </tbody>\n",
       "</table>\n",
       "</div>"
      ],
      "text/plain": [
       "          b  c  d\n",
       "Ohio      0  1  2\n",
       "Texas     3  4  5\n",
       "Colorado  6  7  8"
      ]
     },
     "execution_count": 43,
     "metadata": {},
     "output_type": "execute_result"
    }
   ],
   "source": [
    "# created a 3 x 3 Pandas DataFrame i.e 'df1'\n",
    "\n",
    "df1 = pd.DataFrame(np.arange(9).reshape(3,3),\n",
    "                  columns = list('bcd'),\n",
    "                  index=['Ohio', 'Texas', 'Colorado'])\n",
    "df1"
   ]
  },
  {
   "cell_type": "code",
   "execution_count": 44,
   "metadata": {},
   "outputs": [
    {
     "data": {
      "text/html": [
       "<div>\n",
       "<style scoped>\n",
       "    .dataframe tbody tr th:only-of-type {\n",
       "        vertical-align: middle;\n",
       "    }\n",
       "\n",
       "    .dataframe tbody tr th {\n",
       "        vertical-align: top;\n",
       "    }\n",
       "\n",
       "    .dataframe thead th {\n",
       "        text-align: right;\n",
       "    }\n",
       "</style>\n",
       "<table border=\"1\" class=\"dataframe\">\n",
       "  <thead>\n",
       "    <tr style=\"text-align: right;\">\n",
       "      <th></th>\n",
       "      <th>b</th>\n",
       "      <th>d</th>\n",
       "      <th>e</th>\n",
       "    </tr>\n",
       "  </thead>\n",
       "  <tbody>\n",
       "    <tr>\n",
       "      <th>Utah</th>\n",
       "      <td>0</td>\n",
       "      <td>1</td>\n",
       "      <td>2</td>\n",
       "    </tr>\n",
       "    <tr>\n",
       "      <th>Ohio</th>\n",
       "      <td>3</td>\n",
       "      <td>4</td>\n",
       "      <td>5</td>\n",
       "    </tr>\n",
       "    <tr>\n",
       "      <th>Texas</th>\n",
       "      <td>6</td>\n",
       "      <td>7</td>\n",
       "      <td>8</td>\n",
       "    </tr>\n",
       "    <tr>\n",
       "      <th>Oregon</th>\n",
       "      <td>9</td>\n",
       "      <td>10</td>\n",
       "      <td>11</td>\n",
       "    </tr>\n",
       "  </tbody>\n",
       "</table>\n",
       "</div>"
      ],
      "text/plain": [
       "        b   d   e\n",
       "Utah    0   1   2\n",
       "Ohio    3   4   5\n",
       "Texas   6   7   8\n",
       "Oregon  9  10  11"
      ]
     },
     "execution_count": 44,
     "metadata": {},
     "output_type": "execute_result"
    }
   ],
   "source": [
    "#  Created another 4 x 3 shaped DataFrame i.e. 'df2'\n",
    "\n",
    "df2 = pd.DataFrame(np.arange(12).reshape(4,3),\n",
    "                  columns = list('bde'),\n",
    "                  index = ['Utah', 'Ohio', 'Texas', 'Oregon'])\n",
    "df2"
   ]
  },
  {
   "cell_type": "code",
   "execution_count": 45,
   "metadata": {},
   "outputs": [
    {
     "name": "stdout",
     "output_type": "stream",
     "text": [
      "          b  c  d\n",
      "Ohio      0  1  2\n",
      "Texas     3  4  5\n",
      "Colorado  6  7  8\n",
      "* * * * * * * * * * * * * * * *\n",
      "        b   d   e\n",
      "Utah    0   1   2\n",
      "Ohio    3   4   5\n",
      "Texas   6   7   8\n",
      "Oregon  9  10  11\n",
      "* * * * * * * * * * * * * * * *\n",
      "            b   c     d   e\n",
      "Colorado  NaN NaN   NaN NaN\n",
      "Ohio      3.0 NaN   6.0 NaN\n",
      "Oregon    NaN NaN   NaN NaN\n",
      "Texas     9.0 NaN  12.0 NaN\n",
      "Utah      NaN NaN   NaN NaN\n"
     ]
    }
   ],
   "source": [
    "# Addition of both DataFrames\n",
    "# It will add two DataFrames and action of addition will be performed upon 'index matching' \n",
    "# Otherwise, non-matching indexes will display the value as 'NaN'\n",
    "\n",
    "print(df1)\n",
    "print('* * * * * * * * * * * * * * * *')\n",
    "print(df2)\n",
    "print('* * * * * * * * * * * * * * * *')\n",
    "df3 = df1 + df2\n",
    "print(df3)"
   ]
  },
  {
   "cell_type": "markdown",
   "metadata": {},
   "source": [
    "## Arithmatic Methods with Fill Values"
   ]
  },
  {
   "cell_type": "code",
   "execution_count": 46,
   "metadata": {},
   "outputs": [
    {
     "name": "stdout",
     "output_type": "stream",
     "text": [
      "   a  b   c   d\n",
      "0  0  1   2   3\n",
      "1  4  5   6   7\n",
      "2  8  9  10  11\n",
      "* * * * * * * * * * * * * * * *\n",
      "    a   b   c   d   e\n",
      "0   0   1   2   3   4\n",
      "1   5   6   7   8   9\n",
      "2  10  11  12  13  14\n",
      "3  15  16  17  18  19\n"
     ]
    }
   ],
   "source": [
    "df3 = pd.DataFrame(np.arange(12).reshape(3,4),\n",
    "                  columns = list('abcd'))\n",
    "\n",
    "df4 = pd.DataFrame(np.arange(20).reshape(4,5),\n",
    "                  columns = list('abcde'))\n",
    "print(df3)\n",
    "print('* * * * * * * * * * * * * * * *')\n",
    "print(df4)"
   ]
  },
  {
   "cell_type": "code",
   "execution_count": 47,
   "metadata": {},
   "outputs": [
    {
     "name": "stdout",
     "output_type": "stream",
     "text": [
      "   a  b   c   d\n",
      "0  0  1   2   3\n",
      "1  4  5   6   7\n",
      "2  8  9  10  11\n",
      "* * * * * * * * * * *\n",
      "5\n",
      "* * * * * * * * * * *\n",
      "   a    b   c   d\n",
      "0  0  1.0   2   3\n",
      "1  4  NaN   6   7\n",
      "2  8  9.0  10  11\n"
     ]
    }
   ],
   "source": [
    "# Changing value of 'df3' row-index 1 at Column-'b' i.e. 5, with 'NaN'\n",
    "\n",
    "print(df3)     # this will display the original DataFrame, that was initially created with no 'NaN' value\n",
    "print('* * * * * * * * * * *')\n",
    "print(df3.loc[1, 'b'])  # this will disply the value of Row-Index '1' at Column-Label 'b' i.e. 5\n",
    "print('* * * * * * * * * * *')\n",
    "df3.loc[1, 'b'] = np.nan   # this will replace the above-quoted value 5 with Numpy 'np.nan'\n",
    "print(df3)      # this will display the modified DataFrame"
   ]
  },
  {
   "cell_type": "code",
   "execution_count": 48,
   "metadata": {},
   "outputs": [
    {
     "name": "stdout",
     "output_type": "stream",
     "text": [
      "This is 'df3'\n",
      "   a    b   c   d\n",
      "0  0  1.0   2   3\n",
      "1  4  NaN   6   7\n",
      "2  8  9.0  10  11\n",
      "* * * * * * * * * * *\n",
      "\n",
      "This is 'df4'\n",
      "    a   b   c   d   e\n",
      "0   0   1   2   3   4\n",
      "1   5   6   7   8   9\n",
      "2  10  11  12  13  14\n",
      "3  15  16  17  18  19\n"
     ]
    }
   ],
   "source": [
    "# This is just to display both DataFrames\n",
    "\n",
    "print(\"This is 'df3'\")\n",
    "print(df3)\n",
    "print('* * * * * * * * * * *')\n",
    "print()\n",
    "print(\"This is 'df4'\")\n",
    "print(df4)"
   ]
  },
  {
   "cell_type": "code",
   "execution_count": 49,
   "metadata": {},
   "outputs": [
    {
     "name": "stdout",
     "output_type": "stream",
     "text": [
      "Direct Addition without 'Fill_Value'\n",
      "      a     b     c     d   e\n",
      "0   0.0   2.0   4.0   6.0 NaN\n",
      "1   9.0   NaN  13.0  15.0 NaN\n",
      "2  18.0  20.0  22.0  24.0 NaN\n",
      "3   NaN   NaN   NaN   NaN NaN\n"
     ]
    }
   ],
   "source": [
    "# Addition of two DataFrames without 'Fill Values' Attribute\n",
    "# This will display 'NaN' where index mis-matches\n",
    "\n",
    "print(\"Direct Addition without 'Fill_Value'\")\n",
    "df5 = df3 + df4\n",
    "print(df5)"
   ]
  },
  {
   "cell_type": "code",
   "execution_count": 50,
   "metadata": {},
   "outputs": [
    {
     "name": "stdout",
     "output_type": "stream",
     "text": [
      "Addition using a method with replacing 'NaN' with 0\n",
      "      a     b     c     d     e\n",
      "0   0.0   2.0   4.0   6.0   4.0\n",
      "1   9.0   6.0  13.0  15.0   9.0\n",
      "2  18.0  20.0  22.0  24.0  14.0\n",
      "3  15.0  16.0  17.0  18.0  19.0\n"
     ]
    }
   ],
   "source": [
    "# Addition of two DataFrames using 'add()' method instead of simple '+' method\n",
    "# This will fill 'NaN' values with 'zero' and will perform addition\n",
    "\n",
    "print(\"Addition using a method with replacing 'NaN' with 0\")\n",
    "df6 = df3.add(df4, fill_value=0)\n",
    "print(df6)"
   ]
  },
  {
   "cell_type": "markdown",
   "metadata": {},
   "source": [
    "# Operations between Pandas DataFrame and Pandas Series"
   ]
  },
  {
   "cell_type": "code",
   "execution_count": 51,
   "metadata": {},
   "outputs": [
    {
     "data": {
      "text/html": [
       "<div>\n",
       "<style scoped>\n",
       "    .dataframe tbody tr th:only-of-type {\n",
       "        vertical-align: middle;\n",
       "    }\n",
       "\n",
       "    .dataframe tbody tr th {\n",
       "        vertical-align: top;\n",
       "    }\n",
       "\n",
       "    .dataframe thead th {\n",
       "        text-align: right;\n",
       "    }\n",
       "</style>\n",
       "<table border=\"1\" class=\"dataframe\">\n",
       "  <thead>\n",
       "    <tr style=\"text-align: right;\">\n",
       "      <th></th>\n",
       "      <th>b</th>\n",
       "      <th>d</th>\n",
       "      <th>e</th>\n",
       "    </tr>\n",
       "  </thead>\n",
       "  <tbody>\n",
       "    <tr>\n",
       "      <th>Otah</th>\n",
       "      <td>0</td>\n",
       "      <td>1</td>\n",
       "      <td>2</td>\n",
       "    </tr>\n",
       "    <tr>\n",
       "      <th>Ohio</th>\n",
       "      <td>3</td>\n",
       "      <td>4</td>\n",
       "      <td>5</td>\n",
       "    </tr>\n",
       "    <tr>\n",
       "      <th>Texas</th>\n",
       "      <td>6</td>\n",
       "      <td>7</td>\n",
       "      <td>8</td>\n",
       "    </tr>\n",
       "    <tr>\n",
       "      <th>Oregon</th>\n",
       "      <td>9</td>\n",
       "      <td>10</td>\n",
       "      <td>11</td>\n",
       "    </tr>\n",
       "  </tbody>\n",
       "</table>\n",
       "</div>"
      ],
      "text/plain": [
       "        b   d   e\n",
       "Otah    0   1   2\n",
       "Ohio    3   4   5\n",
       "Texas   6   7   8\n",
       "Oregon  9  10  11"
      ]
     },
     "execution_count": 51,
     "metadata": {},
     "output_type": "execute_result"
    }
   ],
   "source": [
    "# Created a new DataFrame of sixe 4 x 3\n",
    "\n",
    "dFrame = pd.DataFrame(np.arange(12).reshape(4,3),\n",
    "                     columns = list('bde'),\n",
    "                     index = ['Otah', 'Ohio', 'Texas', 'Oregon'])\n",
    "\n",
    "dFrame"
   ]
  },
  {
   "cell_type": "code",
   "execution_count": 52,
   "metadata": {},
   "outputs": [
    {
     "data": {
      "text/plain": [
       "b    0\n",
       "d    1\n",
       "e    2\n",
       "Name: Otah, dtype: int32"
      ]
     },
     "execution_count": 52,
     "metadata": {},
     "output_type": "execute_result"
    }
   ],
   "source": [
    "# Created a new Pandas Series 'mySeries' using Pandas 'iloc' method\n",
    "\n",
    "mySeries = dFrame.iloc[0]\n",
    "mySeries"
   ]
  },
  {
   "cell_type": "code",
   "execution_count": 53,
   "metadata": {},
   "outputs": [
    {
     "data": {
      "text/plain": [
       "b    1\n",
       "d    2\n",
       "e    3\n",
       "dtype: int64"
      ]
     },
     "execution_count": 53,
     "metadata": {},
     "output_type": "execute_result"
    }
   ],
   "source": [
    "# Created another Series using 'Direct Entry' method\n",
    "\n",
    "mySeries2 = pd.Series([1, 2, 3], index=list('bde'))\n",
    "mySeries2"
   ]
  },
  {
   "cell_type": "code",
   "execution_count": 54,
   "metadata": {},
   "outputs": [
    {
     "name": "stdout",
     "output_type": "stream",
     "text": [
      "Index(['b', 'd', 'e'], dtype='object') [1 2 3]\n"
     ]
    }
   ],
   "source": [
    "# Displayed index and values separately\n",
    "\n",
    "print(mySeries2.index, mySeries2.values)"
   ]
  },
  {
   "cell_type": "code",
   "execution_count": 55,
   "metadata": {},
   "outputs": [
    {
     "name": "stdout",
     "output_type": "stream",
     "text": [
      " * * * DataFrame Before Subtraction * * * \n",
      "        b   d   e\n",
      "Otah    0   1   2\n",
      "Ohio    3   4   5\n",
      "Texas   6   7   8\n",
      "Oregon  9  10  11\n",
      "\n",
      " * * * Series * * * \n",
      "Index(['b', 'd', 'e'], dtype='object') [1 2 3]\n",
      "\n",
      " * * * DataFrame after Substracting Series * * * \n",
      "        b  d  e\n",
      "Otah   -1 -1 -1\n",
      "Ohio    2  2  2\n",
      "Texas   5  5  5\n",
      "Oregon  8  8  8\n"
     ]
    }
   ],
   "source": [
    "# Arithmatic Operation between DataFrame & Series\n",
    "# This will substract each element of Series i.e. [1 2 3] from each index of DataFram 'dFrame'\n",
    "\n",
    "print(\" * * * DataFrame Before Subtraction * * * \")\n",
    "print(dFrame)\n",
    "print()\n",
    "print(\" * * * Series * * * \")\n",
    "print(mySeries.index, mySeries2.values)\n",
    "print()\n",
    "\n",
    "# DataFrame columns names will be matched with series index it's row-wise broadcasting operation\n",
    "print(\" * * * DataFrame after Substracting Series * * * \")\n",
    "print(dFrame - mySeries2)"
   ]
  },
  {
   "cell_type": "markdown",
   "metadata": {},
   "source": [
    "# Deleting Data (Row or Column from DataFrame)"
   ]
  },
  {
   "cell_type": "code",
   "execution_count": 56,
   "metadata": {},
   "outputs": [
    {
     "data": {
      "text/html": [
       "<div>\n",
       "<style scoped>\n",
       "    .dataframe tbody tr th:only-of-type {\n",
       "        vertical-align: middle;\n",
       "    }\n",
       "\n",
       "    .dataframe tbody tr th {\n",
       "        vertical-align: top;\n",
       "    }\n",
       "\n",
       "    .dataframe thead th {\n",
       "        text-align: right;\n",
       "    }\n",
       "</style>\n",
       "<table border=\"1\" class=\"dataframe\">\n",
       "  <thead>\n",
       "    <tr style=\"text-align: right;\">\n",
       "      <th></th>\n",
       "      <th>one</th>\n",
       "      <th>two</th>\n",
       "      <th>three</th>\n",
       "      <th>four</th>\n",
       "    </tr>\n",
       "  </thead>\n",
       "  <tbody>\n",
       "    <tr>\n",
       "      <th>Ohio</th>\n",
       "      <td>0</td>\n",
       "      <td>1</td>\n",
       "      <td>2</td>\n",
       "      <td>3</td>\n",
       "    </tr>\n",
       "    <tr>\n",
       "      <th>Colorado</th>\n",
       "      <td>4</td>\n",
       "      <td>5</td>\n",
       "      <td>6</td>\n",
       "      <td>7</td>\n",
       "    </tr>\n",
       "    <tr>\n",
       "      <th>Utah</th>\n",
       "      <td>8</td>\n",
       "      <td>9</td>\n",
       "      <td>10</td>\n",
       "      <td>11</td>\n",
       "    </tr>\n",
       "    <tr>\n",
       "      <th>New York</th>\n",
       "      <td>12</td>\n",
       "      <td>13</td>\n",
       "      <td>14</td>\n",
       "      <td>15</td>\n",
       "    </tr>\n",
       "  </tbody>\n",
       "</table>\n",
       "</div>"
      ],
      "text/plain": [
       "          one  two  three  four\n",
       "Ohio        0    1      2     3\n",
       "Colorado    4    5      6     7\n",
       "Utah        8    9     10    11\n",
       "New York   12   13     14    15"
      ]
     },
     "execution_count": 56,
     "metadata": {},
     "output_type": "execute_result"
    }
   ],
   "source": [
    "data_df = pd.DataFrame(np.arange(16).reshape(4,4),\n",
    "                      index = ['Ohio', 'Colorado', 'Utah', 'New York'],\n",
    "                      columns = ['one', 'two', 'three', 'four'])\n",
    "data_df"
   ]
  },
  {
   "cell_type": "markdown",
   "metadata": {},
   "source": [
    "***Note:- DataFrame '.drop()' method would return a new DataFrame without having deleted rows. So, store it into a DataFrame \n",
    "variable or use 'inplace = True' while droping 'rows'  or 'columns'***"
   ]
  },
  {
   "cell_type": "code",
   "execution_count": 57,
   "metadata": {},
   "outputs": [
    {
     "name": "stdout",
     "output_type": "stream",
     "text": [
      "          one  three  four\n",
      "Ohio        0      2     3\n",
      "Colorado    4      6     7\n",
      "Utah        8     10    11\n",
      "New York   12     14    15\n"
     ]
    }
   ],
   "source": [
    "# Here, it will drop column 'two', which is situated at axis=1\n",
    "\n",
    "data_df = data_df.drop('two', axis = 1)\n",
    "print(data_df)"
   ]
  },
  {
   "cell_type": "code",
   "execution_count": 58,
   "metadata": {},
   "outputs": [
    {
     "name": "stdout",
     "output_type": "stream",
     "text": [
      "          one  four\n",
      "Ohio        0     3\n",
      "Colorado    4     7\n",
      "Utah        8    11\n",
      "New York   12    15\n"
     ]
    }
   ],
   "source": [
    "data_df.drop('three', axis = 1, inplace = True)\n",
    "print(data_df)"
   ]
  },
  {
   "cell_type": "code",
   "execution_count": 59,
   "metadata": {},
   "outputs": [
    {
     "name": "stdout",
     "output_type": "stream",
     "text": [
      "          one  four\n",
      "Utah        8    11\n",
      "New York   12    15\n"
     ]
    }
   ],
   "source": [
    "# Here, two rows having index-names 'Ohio' & 'Colorado' have been dropped\n",
    "\n",
    "data_df.drop(['Ohio', 'Colorado'], inplace = True)\n",
    "print(data_df)"
   ]
  },
  {
   "cell_type": "markdown",
   "metadata": {},
   "source": [
    "# Indexing, Selection & Filtering"
   ]
  },
  {
   "cell_type": "code",
   "execution_count": 60,
   "metadata": {},
   "outputs": [
    {
     "data": {
      "text/html": [
       "<div>\n",
       "<style scoped>\n",
       "    .dataframe tbody tr th:only-of-type {\n",
       "        vertical-align: middle;\n",
       "    }\n",
       "\n",
       "    .dataframe tbody tr th {\n",
       "        vertical-align: top;\n",
       "    }\n",
       "\n",
       "    .dataframe thead th {\n",
       "        text-align: right;\n",
       "    }\n",
       "</style>\n",
       "<table border=\"1\" class=\"dataframe\">\n",
       "  <thead>\n",
       "    <tr style=\"text-align: right;\">\n",
       "      <th></th>\n",
       "      <th>one</th>\n",
       "      <th>two</th>\n",
       "      <th>three</th>\n",
       "      <th>four</th>\n",
       "    </tr>\n",
       "  </thead>\n",
       "  <tbody>\n",
       "    <tr>\n",
       "      <th>Ohio</th>\n",
       "      <td>0</td>\n",
       "      <td>1</td>\n",
       "      <td>2</td>\n",
       "      <td>3</td>\n",
       "    </tr>\n",
       "    <tr>\n",
       "      <th>Colorado</th>\n",
       "      <td>4</td>\n",
       "      <td>5</td>\n",
       "      <td>6</td>\n",
       "      <td>7</td>\n",
       "    </tr>\n",
       "    <tr>\n",
       "      <th>Utah</th>\n",
       "      <td>8</td>\n",
       "      <td>9</td>\n",
       "      <td>10</td>\n",
       "      <td>11</td>\n",
       "    </tr>\n",
       "    <tr>\n",
       "      <th>New York</th>\n",
       "      <td>12</td>\n",
       "      <td>13</td>\n",
       "      <td>14</td>\n",
       "      <td>15</td>\n",
       "    </tr>\n",
       "  </tbody>\n",
       "</table>\n",
       "</div>"
      ],
      "text/plain": [
       "          one  two  three  four\n",
       "Ohio        0    1      2     3\n",
       "Colorado    4    5      6     7\n",
       "Utah        8    9     10    11\n",
       "New York   12   13     14    15"
      ]
     },
     "execution_count": 60,
     "metadata": {},
     "output_type": "execute_result"
    }
   ],
   "source": [
    "data_df = pd.DataFrame(np.arange(16).reshape(4,4),\n",
    "                      index = ['Ohio', 'Colorado', 'Utah', 'New York'],\n",
    "                      columns = ['one', 'two', 'three', 'four'])\n",
    "data_df"
   ]
  },
  {
   "cell_type": "code",
   "execution_count": 61,
   "metadata": {},
   "outputs": [
    {
     "name": "stdout",
     "output_type": "stream",
     "text": [
      "          one  three\n",
      "Ohio        0      2\n",
      "Colorado    4      6\n",
      "Utah        8     10\n",
      "New York   12     14\n"
     ]
    }
   ],
   "source": [
    "# It will select column labels 'one' & 'three'\n",
    "\n",
    "print(data_df[['one', 'three']])"
   ]
  },
  {
   "cell_type": "code",
   "execution_count": 62,
   "metadata": {},
   "outputs": [
    {
     "name": "stdout",
     "output_type": "stream",
     "text": [
      "          one  two  three  four\n",
      "Utah        8    9     10    11\n",
      "New York   12   13     14    15\n"
     ]
    }
   ],
   "source": [
    "# It will select rows with index number '2 till end'\n",
    "\n",
    "print(data_df[2:])"
   ]
  },
  {
   "cell_type": "code",
   "execution_count": 63,
   "metadata": {},
   "outputs": [
    {
     "name": "stdout",
     "output_type": "stream",
     "text": [
      "Ohio        False\n",
      "Colorado     True\n",
      "Utah         True\n",
      "New York     True\n",
      "Name: three, dtype: bool\n"
     ]
    }
   ],
   "source": [
    "# It will display 'True' or 'False' where values of Column-Label 'three' are greater than '5'\n",
    "\n",
    "df2 = data_df['three'] > 5\n",
    "print(df2)"
   ]
  },
  {
   "cell_type": "code",
   "execution_count": 64,
   "metadata": {},
   "outputs": [
    {
     "name": "stdout",
     "output_type": "stream",
     "text": [
      "          one  two  three  four\n",
      "Colorado    4    5      6     7\n",
      "Utah        8    9     10    11\n",
      "New York   12   13     14    15\n"
     ]
    }
   ],
   "source": [
    "#  This will select and display all data of DataFrame where column 'three' has value greater than '5'\n",
    "\n",
    "print(data_df[data_df['three'] > 5])"
   ]
  },
  {
   "cell_type": "markdown",
   "metadata": {},
   "source": [
    "## Selection by Dictionery Style or Attribute Style"
   ]
  },
  {
   "cell_type": "code",
   "execution_count": 65,
   "metadata": {},
   "outputs": [
    {
     "name": "stdout",
     "output_type": "stream",
     "text": [
      "          one  two  three  four\n",
      "Ohio        0    1      2     3\n",
      "Colorado    4    5      6     7\n",
      "Utah        8    9     10    11\n",
      "New York   12   13     14    15\n"
     ]
    }
   ],
   "source": [
    "# A 4 x 4 ndarray is created using Numpy arange function and stored in Pandas DataFrame i.e. 'data_df'\n",
    "\n",
    "data_df = pd.DataFrame(np.arange(16).reshape(4,4),\n",
    "                     index = ['Ohio', 'Colorado', 'Utah', 'New York'],\n",
    "                     columns = ['one', 'two', 'three', 'four'])\n",
    "\n",
    "print(data_df)                     "
   ]
  },
  {
   "cell_type": "code",
   "execution_count": 66,
   "metadata": {},
   "outputs": [
    {
     "name": "stdout",
     "output_type": "stream",
     "text": [
      "Ohio         0\n",
      "Colorado     4\n",
      "Utah         8\n",
      "New York    12\n",
      "Name: one, dtype: int32\n"
     ]
    }
   ],
   "source": [
    "# this command will select all records of column-label 'one'.\n",
    "# this style of selection is called at python dictionery style.\n",
    "\n",
    "print(data_df['one'])"
   ]
  },
  {
   "cell_type": "code",
   "execution_count": 67,
   "metadata": {},
   "outputs": [
    {
     "name": "stdout",
     "output_type": "stream",
     "text": [
      "Ohio         0\n",
      "Colorado     4\n",
      "Utah         8\n",
      "New York    12\n",
      "Name: one, dtype: int32\n"
     ]
    }
   ],
   "source": [
    "# There is another option provided by Pandas to perform data selection\n",
    "# This is called 'Attribute' Style selection\n",
    "# In this method, sytax will be ====> DataFram_Name.Column_Lable\n",
    "\n",
    "print(data_df.one)"
   ]
  },
  {
   "cell_type": "code",
   "execution_count": 68,
   "metadata": {},
   "outputs": [
    {
     "name": "stdout",
     "output_type": "stream",
     "text": [
      "Utah         8\n",
      "New York    12\n",
      "Name: one, dtype: int32\n"
     ]
    }
   ],
   "source": [
    "# We can also perform further deep level selection within a column\n",
    "# this will select rows having 'index-2 onwards' of column-lable 'one'\n",
    "\n",
    "print(data_df.one[2:])"
   ]
  },
  {
   "cell_type": "code",
   "execution_count": 69,
   "metadata": {},
   "outputs": [
    {
     "name": "stdout",
     "output_type": "stream",
     "text": [
      "Utah         8\n",
      "New York    12\n",
      "Name: one, dtype: int32\n"
     ]
    }
   ],
   "source": [
    "# This is Python's Dictionery style procedure to do selection within a selection\n",
    "# This will perform the similar selection as done by ===> print(data_df.one[2:])\n",
    "\n",
    "print(data_df['one'][2:])"
   ]
  },
  {
   "cell_type": "code",
   "execution_count": 70,
   "metadata": {},
   "outputs": [
    {
     "name": "stdout",
     "output_type": "stream",
     "text": [
      "          one  two  three  four\n",
      "Colorado    4    5      6     7\n",
      "Utah        8    9     10    11\n",
      "New York   12   13     14    15\n"
     ]
    }
   ],
   "source": [
    "# This will perform conditional filtering to select all row-indexes and column-labels where value of column 'three' is > 5\n",
    "\n",
    "print(data_df[data_df['three'] > 5])"
   ]
  },
  {
   "cell_type": "code",
   "execution_count": 71,
   "metadata": {},
   "outputs": [
    {
     "name": "stdout",
     "output_type": "stream",
     "text": [
      "Ohio        False\n",
      "Colorado     True\n",
      "Utah         True\n",
      "New York     True\n",
      "Name: three, dtype: bool\n"
     ]
    }
   ],
   "source": [
    "# This will select boolean value of column 'three' whether it's > 5 or not?\n",
    "# It will return 'False' in case of row-index 'Ohio' and 'True' against all other row-indexes.\n",
    "\n",
    "print(data_df.three > 5)"
   ]
  },
  {
   "cell_type": "code",
   "execution_count": 72,
   "metadata": {},
   "outputs": [
    {
     "name": "stdout",
     "output_type": "stream",
     "text": [
      "Colorado     6\n",
      "Utah        10\n",
      "New York    14\n",
      "Name: three, dtype: int32\n"
     ]
    }
   ],
   "source": [
    "# This will select the values of column-label 'three' having > 5\n",
    "# column-label 'three' is used as attribute style, so it will only selelct greater than '5' values of only column-'three'\n",
    "\n",
    "print(data_df.three[data_df['three'] > 5])"
   ]
  },
  {
   "cell_type": "markdown",
   "metadata": {},
   "source": [
    "# DataFrame Re-index Method with 'ffill'"
   ]
  },
  {
   "cell_type": "markdown",
   "metadata": {},
   "source": [
    "- Re-index is a 'method' of Pandas DataFrame\n",
    "    - Re-index has a parameter which is also called as 'method'\n",
    "    - This parameter has a value which is called 'ffill'\n",
    "    - 'ffill' will replace the 'NaN' value with the value of it's previous index"
   ]
  },
  {
   "cell_type": "code",
   "execution_count": 73,
   "metadata": {},
   "outputs": [
    {
     "name": "stdout",
     "output_type": "stream",
     "text": [
      "0      blue\n",
      "3    purple\n",
      "6    yellow\n",
      "dtype: object\n"
     ]
    }
   ],
   "source": [
    "# An object created using Pandas Series with only three indexes\n",
    "\n",
    "obj3 = pd.Series(['blue', 'purple', 'yellow'], index=[0, 3, 6])\n",
    "print(obj3)"
   ]
  },
  {
   "cell_type": "code",
   "execution_count": 74,
   "metadata": {},
   "outputs": [
    {
     "name": "stdout",
     "output_type": "stream",
     "text": [
      "0      blue\n",
      "1       NaN\n",
      "2       NaN\n",
      "3    purple\n",
      "4       NaN\n",
      "5       NaN\n",
      "6    yellow\n",
      "7       NaN\n",
      "8       NaN\n",
      "dtype: object\n"
     ]
    }
   ],
   "source": [
    "# this will add indexes upto 9 but values against added indexes will not be updated, so will be displayed as 'NaN'\n",
    "# Python range function is used to increase indexes of already created variable i.e. obj3\n",
    "\n",
    "obj3 = obj3.reindex(range(9))\n",
    "print(obj3)"
   ]
  },
  {
   "cell_type": "code",
   "execution_count": 75,
   "metadata": {},
   "outputs": [
    {
     "name": "stdout",
     "output_type": "stream",
     "text": [
      "0      blue\n",
      "1       NaN\n",
      "2       NaN\n",
      "3    purple\n",
      "4       NaN\n",
      "5       NaN\n",
      "6    yellow\n",
      "7       NaN\n",
      "8       NaN\n",
      "dtype: object\n"
     ]
    }
   ],
   "source": [
    "# Now, index of variable 'obj3' are increased upto '9'\n",
    "# 'method' attribute is used to fill the index with previous index-value\n",
    "\n",
    "obj3 = obj3.reindex(range(9), method='ffill')\n",
    "print(obj3)"
   ]
  },
  {
   "cell_type": "code",
   "execution_count": 76,
   "metadata": {},
   "outputs": [
    {
     "name": "stdout",
     "output_type": "stream",
     "text": [
      "   Ohio  Texas  California\n",
      "a     0      1           2\n",
      "c     3      4           5\n",
      "d     6      7           8\n"
     ]
    }
   ],
   "source": [
    "# A new DataFrame i.e. 'states' is created\n",
    "\n",
    "states = pd.DataFrame(np.arange(9).reshape(3,3),\n",
    "                     index = ['a', 'c', 'd'],\n",
    "                     columns = ['Ohio', 'Texas', 'California'])\n",
    "\n",
    "print(states)"
   ]
  },
  {
   "cell_type": "code",
   "execution_count": 77,
   "metadata": {},
   "outputs": [
    {
     "name": "stdout",
     "output_type": "stream",
     "text": [
      "   Ohio  Texas  California\n",
      "a   0.0    1.0         2.0\n",
      "b   NaN    NaN         NaN\n",
      "c   3.0    4.0         5.0\n",
      "d   6.0    7.0         8.0\n"
     ]
    }
   ],
   "source": [
    "# Here, DataFrame i.e. 'states' has been 'reindexed' but without 'method=ffill', so row at index-b will be added\n",
    "# without any value, so values be displayed as 'NaN'\n",
    "\n",
    "states = states.reindex(['a', 'b', 'c', 'd'])\n",
    "print(states)"
   ]
  },
  {
   "cell_type": "code",
   "execution_count": 78,
   "metadata": {},
   "outputs": [
    {
     "name": "stdout",
     "output_type": "stream",
     "text": [
      "   Ohio  Texas  California\n",
      "a   0.0    1.0         2.0\n",
      "c   3.0    4.0         5.0\n",
      "d   6.0    7.0         8.0\n",
      "e   6.0    7.0         8.0\n"
     ]
    }
   ],
   "source": [
    "# Here, DataFrame i.e. 'states' is 'reindexed' with added 'column' i.e. 'e'\n",
    "# 'method = ffill' will fill the indexes of added 'column-e' with the values of previous index i.e. index-'d'\n",
    "\n",
    "states = states.reindex(['a', 'c', 'd', 'e'], method='ffill')\n",
    "print(states)"
   ]
  },
  {
   "cell_type": "markdown",
   "metadata": {},
   "source": [
    "# Changing Column Label (Name) using 'reindex' method"
   ]
  },
  {
   "cell_type": "code",
   "execution_count": 79,
   "metadata": {},
   "outputs": [
    {
     "name": "stdout",
     "output_type": "stream",
     "text": [
      "   Ohio  Texas  California\n",
      "a     0      1           2\n",
      "c     3      4           5\n",
      "d     6      7           8\n"
     ]
    }
   ],
   "source": [
    "# DataFrame is again created\n",
    "\n",
    "states = pd.DataFrame(np.arange(9).reshape(3,3),\n",
    "                     index = ['a', 'c', 'd'],\n",
    "                     columns = ['Ohio', 'Texas', 'California'])\n",
    "\n",
    "print(states)"
   ]
  },
  {
   "cell_type": "code",
   "execution_count": 80,
   "metadata": {},
   "outputs": [
    {
     "name": "stdout",
     "output_type": "stream",
     "text": [
      "* * * DataFame 'states' before 'reindexing'\n",
      "   Ohio  Texas  California\n",
      "a     0      1           2\n",
      "c     3      4           5\n",
      "d     6      7           8\n",
      "\n",
      "* * * DataFame 'states' after 'reindexing' i.e. adding a column-Utah\n",
      "   Texas  Utah  California  Ohio\n",
      "a      1   NaN           2     0\n",
      "c      4   NaN           5     3\n",
      "d      7   NaN           8     6\n"
     ]
    }
   ],
   "source": [
    "# Re-indexing of DataFrame in another way\n",
    "\n",
    "states_names = ['Texas', 'Utah', 'California', 'Ohio']   # Created an Array of 'state_names'\n",
    "print(\"* * * DataFame 'states' before 'reindexing'\")\n",
    "print(states)\n",
    "print()\n",
    "states = states.reindex(columns = states_names)\n",
    "print(\"* * * DataFame 'states' after 'reindexing' i.e. adding a column-Utah\")\n",
    "print(states)"
   ]
  },
  {
   "cell_type": "markdown",
   "metadata": {},
   "source": [
    "#### At this point, practice of Lesson-2 Videos of PIAIC Student Portal (Quarter-2) are completed"
   ]
  }
 ],
 "metadata": {
  "kernelspec": {
   "display_name": "Python 3",
   "language": "python",
   "name": "python3"
  },
  "language_info": {
   "codemirror_mode": {
    "name": "ipython",
    "version": 3
   },
   "file_extension": ".py",
   "mimetype": "text/x-python",
   "name": "python",
   "nbconvert_exporter": "python",
   "pygments_lexer": "ipython3",
   "version": "3.7.3"
  }
 },
 "nbformat": 4,
 "nbformat_minor": 2
}
